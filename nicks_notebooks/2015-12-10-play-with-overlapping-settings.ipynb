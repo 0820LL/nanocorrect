{
 "metadata": {
  "name": ""
 },
 "nbformat": 3,
 "nbformat_minor": 0,
 "worksheets": [
  {
   "cells": [
    {
     "cell_type": "markdown",
     "metadata": {},
     "source": [
      "R7 and R7.3 combined wasn't very useful. The best assembly with a ~100kb N50 was using just the R7.3 data and three rounds of correction.\n"
     ]
    },
    {
     "cell_type": "markdown",
     "metadata": {},
     "source": [
      "Have a play with Celera overlap settings:"
     ]
    },
    {
     "cell_type": "code",
     "collapsed": false,
     "input": [
      "ovlErrorRate = 0.05\n",
      "\n",
      "[Scaffolds]\n",
      "TotalScaffolds=52\n",
      "TotalContigsInScaffolds=52\n",
      "MeanContigsPerScaffold=1.00\n",
      "MinContigsPerScaffold=1\n",
      "MaxContigsPerScaffold=1\n",
      "\n",
      "TotalBasesInScaffolds=4786276\n",
      "MeanBasesInScaffolds=92044\n",
      "MinBasesInScaffolds=7245\n",
      "MaxBasesInScaffolds=493978\n",
      "N25ScaffoldBases=322596\n",
      "N50ScaffoldBases=221737\n",
      "N75ScaffoldBases=121658\n",
      "ScaffoldAt1000000=334507\n",
      "ScaffoldAt2000000=232600\n",
      "ScaffoldAt3000000=166470\n",
      "ScaffoldAt4000000=83322"
     ],
     "language": "python",
     "metadata": {},
     "outputs": []
    },
    {
     "cell_type": "code",
     "collapsed": false,
     "input": [
      "#pbasm.spec\n",
      "\n",
      "ovlErrorRate = 0.08\n",
      "\n",
      "[Scaffolds]\n",
      "TotalScaffolds=42\n",
      "TotalContigsInScaffolds=42\n",
      "MeanContigsPerScaffold=1.00\n",
      "MinContigsPerScaffold=1\n",
      "MaxContigsPerScaffold=1\n",
      "\n",
      "TotalBasesInScaffolds=4766320\n",
      "MeanBasesInScaffolds=113484\n",
      "MinBasesInScaffolds=5423\n",
      "MaxBasesInScaffolds=493966\n",
      "N25ScaffoldBases=361111\n",
      "N50ScaffoldBases=298703\n",
      "N75ScaffoldBases=158016\n",
      "ScaffoldAt1000000=361111\n",
      "ScaffoldAt2000000=302650\n",
      "ScaffoldAt3000000=257472\n",
      "ScaffoldAt4000000=129347"
     ],
     "language": "python",
     "metadata": {},
     "outputs": []
    },
    {
     "cell_type": "code",
     "collapsed": false,
     "input": [
      "#pbasm.spec\n",
      "ovlErrorRate = 0.15\n",
      "\n",
      "[Scaffolds]\n",
      "TotalScaffolds=73\n",
      "TotalContigsInScaffolds=73\n",
      "MeanContigsPerScaffold=1.00\n",
      "MinContigsPerScaffold=1\n",
      "MaxContigsPerScaffold=1\n",
      "\n",
      "TotalBasesInScaffolds=5195949\n",
      "MeanBasesInScaffolds=71177\n",
      "MinBasesInScaffolds=3345\n",
      "MaxBasesInScaffolds=422783\n",
      "N25ScaffoldBases=282469\n",
      "N50ScaffoldBases=197245\n",
      "N75ScaffoldBases=85113\n",
      "ScaffoldAt1000000=307997\n",
      "ScaffoldAt2000000=233289\n",
      "ScaffoldAt3000000=172770\n",
      "ScaffoldAt4000000=76629\n",
      "ScaffoldAt5000000=12731"
     ],
     "language": "python",
     "metadata": {},
     "outputs": []
    }
   ],
   "metadata": {}
  }
 ]
}