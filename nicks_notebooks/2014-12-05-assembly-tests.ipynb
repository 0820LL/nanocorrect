{
 "metadata": {
  "name": ""
 },
 "nbformat": 3,
 "nbformat_minor": 0,
 "worksheets": [
  {
   "cells": [
    {
     "cell_type": "markdown",
     "metadata": {},
     "source": [
      "The results of three rounds of correction look, on visual inspection to be good enough for assembly. However Newbler does not give good results.\n",
      "\n",
      "Aim:\n",
      "* To try Celera assembler in various modes and see whether this does any better."
     ]
    },
    {
     "cell_type": "markdown",
     "metadata": {},
     "source": [
      "Useful resources:\n",
      "    \n",
      "<http://wgs-assembler.sourceforge.net/wiki/index.php/PBcR#Inputting_PacBio_RS_Sequences>\n",
      "    \n",
      "<http://wgs-assembler.sourceforge.net/wiki/index.php/RunCA>"
     ]
    },
    {
     "cell_type": "markdown",
     "metadata": {},
     "source": [
      "I got the pbasm.spec file I am using from the Sprai distribution <http://zombie.cb.k.u-tokyo.ac.jp/sprai/README.html>"
     ]
    },
    {
     "cell_type": "code",
     "collapsed": false,
     "input": [
      "!./wgs-8.2/Linux-amd64/bin/runCA -d celera_FC20 -p asm -s pbasm.spec FC20iter2.frg"
     ],
     "language": "python",
     "metadata": {},
     "outputs": []
    },
    {
     "cell_type": "markdown",
     "metadata": {},
     "source": [
      "If you use FASTA and a fake QUAL file to make the FRG file this reports \"no overlaps found\". The PBCR documentation suggests there is an issue with malformatted input files."
     ]
    },
    {
     "cell_type": "markdown",
     "metadata": {},
     "source": [
      "Got this working:"
     ]
    },
    {
     "cell_type": "code",
     "collapsed": false,
     "input": [
      "!java -jar convertFastaAndQualToFastq.jar nanocorrect/FC20_iter2_corrected.fasta > nanocorrect/FC20_iter2_corrected.fastq\n",
      "!fastqToCA -technology sanger -libraryname FC20 -reads nanocorrect/FC20_iter2_corrected.fastq > test.frg\n",
      "!runCA -d celera_FC20 -p asm -s pbasm.spec test.frg"
     ],
     "language": "python",
     "metadata": {},
     "outputs": []
    },
    {
     "cell_type": "code",
     "collapsed": false,
     "input": [
      "[Scaffolds]\n",
      "TotalScaffolds=99\n",
      "TotalContigsInScaffolds=99\n",
      "MeanContigsPerScaffold=1.00\n",
      "MinContigsPerScaffold=1\n",
      "MaxContigsPerScaffold=1\n",
      "\n",
      "TotalBasesInScaffolds=5033903\n",
      "MeanBasesInScaffolds=50848\n",
      "MinBasesInScaffolds=6278\n",
      "MaxBasesInScaffolds=243027\n",
      "N25ScaffoldBases=164588\n",
      "N50ScaffoldBases=106886\n",
      "N75ScaffoldBases=66746\n",
      "ScaffoldAt1000000=187342\n",
      "ScaffoldAt2000000=132409\n",
      "ScaffoldAt3000000=96678\n",
      "ScaffoldAt4000000=55717\n",
      "ScaffoldAt5000000=7374"
     ],
     "language": "python",
     "metadata": {},
     "outputs": []
    },
    {
     "cell_type": "markdown",
     "metadata": {},
     "source": [
      "Might be worth going back to the pre-trimmed iteration?"
     ]
    },
    {
     "cell_type": "code",
     "collapsed": false,
     "input": [
      "!java -jar convertFastaAndQualToFastq.jar nanocorrect/FC20_iter1_corrected.fasta > nanocorrect/FC20_iter1_corrected.fastq\n",
      "!fastqToCA -technology sanger -libraryname FC20 -reads nanocorrect/FC20_iter1_corrected.fastq > FC20_iter1.frg\n",
      "!runCA -d celera_FC20_iter1 -p asm -s pbasm.spec FC20_iter1.frg"
     ],
     "language": "python",
     "metadata": {},
     "outputs": []
    },
    {
     "cell_type": "markdown",
     "metadata": {},
     "source": [
      "That's worse ... "
     ]
    },
    {
     "cell_type": "code",
     "collapsed": false,
     "input": [
      "[Scaffolds]\n",
      "TotalScaffolds=251\n",
      "TotalContigsInScaffolds=251\n",
      "MeanContigsPerScaffold=1.00\n",
      "MinContigsPerScaffold=1\n",
      "MaxContigsPerScaffold=1\n",
      "\n",
      "TotalBasesInScaffolds=5488426\n",
      "MeanBasesInScaffolds=21866\n",
      "MinBasesInScaffolds=2997\n",
      "MaxBasesInScaffolds=152363\n",
      "N25ScaffoldBases=69791\n",
      "N50ScaffoldBases=36078\n",
      "N75ScaffoldBases=16270\n",
      "ScaffoldAt1000000=76316\n",
      "ScaffoldAt2000000=55997\n",
      "ScaffoldAt3000000=28765\n",
      "ScaffoldAt4000000=17169\n",
      "ScaffoldAt5000000=8673"
     ],
     "language": "python",
     "metadata": {},
     "outputs": []
    },
    {
     "cell_type": "markdown",
     "metadata": {},
     "source": [
      "Try mapping the assembly back to the reference and see where the gaps are created?"
     ]
    },
    {
     "cell_type": "code",
     "collapsed": false,
     "input": [
      "bwa mem -t16 -x ont2d refs/NC_000913.fna celera_FC20/9-terminator/asm.ctg.fasta  | samtools view -bS - | samtools sort - > celera_FC20.sorted"
     ],
     "language": "python",
     "metadata": {},
     "outputs": []
    },
    {
     "cell_type": "markdown",
     "metadata": {},
     "source": [
      "Scaffold gaps seem to correlate fairly well with low coverage / poorly-corrected regions, so I guess we just need to improve the correction a bit more -- perhaps more coverage is required."
     ]
    },
    {
     "cell_type": "code",
     "collapsed": false,
     "input": [],
     "language": "python",
     "metadata": {},
     "outputs": []
    }
   ],
   "metadata": {}
  }
 ]
}