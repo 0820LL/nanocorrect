{
 "metadata": {
  "name": ""
 },
 "nbformat": 3,
 "nbformat_minor": 0,
 "worksheets": [
  {
   "cells": [
    {
     "cell_type": "markdown",
     "metadata": {},
     "source": [
      "Earlier, I modified nanocorrect to spit out the number of overlaps detected by DALIGN into the FASTA header. Initially it looked like very few reads were overlapping but that was because the ones without overlaps complete faster so you get a false view early on. It's actually more like 50% with the R7.3 data. I noticed one read that had ~80 overlaps ended up with 98% identity, so there is confidence that higher coverage would do a better job. Therefore I am trying again with the R7 and R7.3 data combined. The R7.3 data is from workflow 1.9, but the R7 data is the old base caller as Metrichor has not finished re-calling. There is also the ONI data to add in if necessary.\n"
     ]
    },
    {
     "cell_type": "code",
     "collapsed": false,
     "input": [
      "!cat FC20.2D.fasta ../Ecoli_R7_2D.fasta > R7_R73.fasta\n",
      "!make -f pipeline.make INPUT=R7_R73.fasta NAME=R7_R73\n"
     ],
     "language": "python",
     "metadata": {},
     "outputs": [
      {
       "output_type": "stream",
       "stream": "stdout",
       "text": [
        "/bin/sh: 1: source: not found\r\n"
       ]
      },
      {
       "output_type": "stream",
       "stream": "stdout",
       "text": [
        "./preprocess.pl R7_R73.fasta > R7_R73.pp.fasta\r\n"
       ]
      },
      {
       "output_type": "stream",
       "stream": "stdout",
       "text": [
        "fasta2DB R7_R73 R7_R73.pp.fasta\r\n",
        "/bin/bash: fasta2DB: command not found\r\n",
        "make: *** [R7_R73.db] Error 127\r\n"
       ]
      }
     ],
     "prompt_number": 1
    },
    {
     "cell_type": "code",
     "collapsed": false,
     "input": [
      "!grep \">\" R7_R73.fasta | wc -l"
     ],
     "language": "python",
     "metadata": {},
     "outputs": [
      {
       "output_type": "stream",
       "stream": "stdout",
       "text": [
        "34762\r\n"
       ]
      }
     ],
     "prompt_number": 2
    },
    {
     "cell_type": "code",
     "collapsed": false,
     "input": [
      "!python makerange.py 1 34762 > input.txt"
     ],
     "language": "python",
     "metadata": {},
     "outputs": [],
     "prompt_number": 4
    },
    {
     "cell_type": "code",
     "collapsed": false,
     "input": [
      "!cat input.txt  | parallel python nanocorrect.py R7_R73"
     ],
     "language": "python",
     "metadata": {},
     "outputs": []
    },
    {
     "cell_type": "markdown",
     "metadata": {},
     "source": [
      "It looks like many of the reads that I BLAST are no longer full length. Should the consensus part of the alignments be trimmed out of PO?? I suppose this might make sense, if an errant overlap gets in."
     ]
    },
    {
     "cell_type": "markdown",
     "metadata": {},
     "source": [
      "It looks like nanocorrect already trims to the seed 'poabaseread' read extents. But I have noticed that the input to nanocorrect trims the other reads to the part of the read it thinks aligns. This is possibly an issue if the overlap is not good or complete, so I have disabled this functionality."
     ]
    },
    {
     "cell_type": "markdown",
     "metadata": {},
     "source": [
      "Hmm, not sure if this is helping just yet. I wonder if I have made things worse by forcing unrelated segments of reads into the alignment. Need to systematically review the output both in terms of longest alignments and % identity. Write a script to compare the results of different settings. Perhaps need to score the POA output too."
     ]
    },
    {
     "cell_type": "markdown",
     "metadata": {},
     "source": [
      "Ideas:\n",
      "\n",
      "* parameter scan DALIGN settings, particularly _k_\n",
      "* compare R7+R7.3 with just R7.3\n",
      "* multiple iterations"
     ]
    },
    {
     "cell_type": "code",
     "collapsed": false,
     "input": [],
     "language": "python",
     "metadata": {},
     "outputs": []
    }
   ],
   "metadata": {}
  }
 ]
}